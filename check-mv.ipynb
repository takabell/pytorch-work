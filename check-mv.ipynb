{
 "cells": [
  {
   "cell_type": "code",
   "execution_count": 1,
   "id": "f9473acd-9838-4328-a34d-e42b5c194379",
   "metadata": {},
   "outputs": [],
   "source": [
    "import torch\n",
    "import time\n",
    "# 入力テンソルの作成\n",
    "input_2d = torch.tensor([[1, 2], [3, 4]])\n",
    "other_1d = torch.tensor([5, 6])"
   ]
  },
  {
   "cell_type": "code",
   "execution_count": null,
   "id": "e117e26d-02b4-49b6-9546-8c387914969a",
   "metadata": {},
   "outputs": [],
   "source": [
    "# torch.matmul()を使用して行列-ベクトルの積を計算\n",
    "start = time.time()\n",
    "result = torch.matmul(input_2d, other_1d)\n",
    "end = time.time()"
   ]
  },
  {
   "cell_type": "code",
   "execution_count": null,
   "id": "642eb327-92f2-49a2-bdb4-720fe9fdeb10",
   "metadata": {},
   "outputs": [],
   "source": [
    "print(end-start)"
   ]
  }
 ],
 "metadata": {
  "kernelspec": {
   "display_name": "Python 3 (ipykernel)",
   "language": "python",
   "name": "python3"
  },
  "language_info": {
   "codemirror_mode": {
    "name": "ipython",
    "version": 3
   },
   "file_extension": ".py",
   "mimetype": "text/x-python",
   "name": "python",
   "nbconvert_exporter": "python",
   "pygments_lexer": "ipython3",
   "version": "3.9.13"
  }
 },
 "nbformat": 4,
 "nbformat_minor": 5
}
