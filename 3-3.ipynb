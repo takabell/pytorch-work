{
 "cells": [
  {
   "cell_type": "code",
   "execution_count": 2,
   "id": "6687028c-0e8f-40df-be37-daa3e8473f0a",
   "metadata": {},
   "outputs": [],
   "source": [
    "%matplotlib inline\n",
    "import random\n",
    "import torch\n",
    "from d2l import torch as d2l"
   ]
  },
  {
   "cell_type": "code",
   "execution_count": 3,
   "id": "bbc42697-4d0b-4df9-9f4f-dc8e359d90e2",
   "metadata": {},
   "outputs": [],
   "source": [
    "class SyntheticRegressionData(d2l.DataModule):  #@save\n",
    "    \"\"\"Synthetic data for linear regression.\"\"\"\n",
    "    def __init__(self, w, b, noise=0.01, num_train=1000, num_val=1000,\n",
    "                 batch_size=32):\n",
    "        super().__init__()\n",
    "        self.save_hyperparameters()\n",
    "        n = num_train + num_val\n",
    "        self.X = torch.randn(n, len(w))\n",
    "        noise = torch.randn(n, 1) * noise\n",
    "        self.y = torch.matmul(self.X, w.reshape((-1, 1))) + b + noise"
   ]
  },
  {
   "cell_type": "code",
   "execution_count": 17,
   "id": "01c074d4-4165-4bd5-b874-be3ac72e067f",
   "metadata": {},
   "outputs": [
    {
     "data": {
      "text/plain": [
       "tensor([[-0.0054],\n",
       "        [ 0.0061],\n",
       "        [ 0.0087],\n",
       "        [ 0.0154],\n",
       "        [ 0.0002],\n",
       "        [ 0.0003],\n",
       "        [ 0.0197],\n",
       "        [ 0.0039],\n",
       "        [ 0.0022],\n",
       "        [-0.0102]])"
      ]
     },
     "execution_count": 17,
     "metadata": {},
     "output_type": "execute_result"
    }
   ],
   "source": [
    "data = SyntheticRegressionData(w=torch.tensor([2, -3.4]), b=4.2)\n",
    "w=torch.tensor([2, -3.4])\n",
    "torch.randn(10,1)*0.01"
   ]
  },
  {
   "cell_type": "code",
   "execution_count": 18,
   "id": "1752743f-7356-4800-884d-70ac1cb6780c",
   "metadata": {},
   "outputs": [
    {
     "data": {
      "text/plain": [
       "tensor([[ 0.0086],\n",
       "        [ 0.0087],\n",
       "        [ 0.0086],\n",
       "        [-0.0266],\n",
       "        [-0.0093],\n",
       "        [ 0.0014],\n",
       "        [-0.0123],\n",
       "        [ 0.0025],\n",
       "        [ 0.0002],\n",
       "        [-0.0065]])"
      ]
     },
     "execution_count": 18,
     "metadata": {},
     "output_type": "execute_result"
    }
   ],
   "source": [
    "torch.normal(mean=0, std=0.01, size=(10,1))"
   ]
  },
  {
   "cell_type": "code",
   "execution_count": 5,
   "id": "b3eb8d2e-194f-455a-9285-da172b9d0fd4",
   "metadata": {},
   "outputs": [
    {
     "name": "stdout",
     "output_type": "stream",
     "text": [
      "features: tensor([[ 1.3078, -1.4982],\n",
      "        [-0.8477, -0.1028],\n",
      "        [ 1.0575,  1.4680],\n",
      "        ...,\n",
      "        [-0.1949,  0.6889],\n",
      "        [ 0.5821,  0.9878],\n",
      "        [ 1.2797, -0.6732]]) \n",
      "label: tensor([[11.9162],\n",
      "        [ 2.8449],\n",
      "        [ 1.3358],\n",
      "        ...,\n",
      "        [ 1.4710],\n",
      "        [ 2.0103],\n",
      "        [ 9.0483]])\n"
     ]
    }
   ],
   "source": [
    "print('features:', data.X,'\\nlabel:', data.y)"
   ]
  },
  {
   "cell_type": "code",
   "execution_count": 39,
   "id": "566162dc-3215-48cc-9dfc-9deba4ee69cf",
   "metadata": {},
   "outputs": [],
   "source": [
    "noise=0.01\n",
    "noise = torch.randn(2000, 1) * noise"
   ]
  },
  {
   "cell_type": "code",
   "execution_count": 43,
   "id": "3bd6229f-8473-4a87-893b-2e8e0dcd25c7",
   "metadata": {},
   "outputs": [
    {
     "data": {
      "text/plain": [
       "2"
      ]
     },
     "execution_count": 43,
     "metadata": {},
     "output_type": "execute_result"
    }
   ],
   "source": [
    "w = torch.tensor([2, -3.4])\n",
    "a = torch.randn(2000, len(w))\n",
    "len(w)"
   ]
  }
 ],
 "metadata": {
  "kernelspec": {
   "display_name": "Python 3 (ipykernel)",
   "language": "python",
   "name": "python3"
  },
  "language_info": {
   "codemirror_mode": {
    "name": "ipython",
    "version": 3
   },
   "file_extension": ".py",
   "mimetype": "text/x-python",
   "name": "python",
   "nbconvert_exporter": "python",
   "pygments_lexer": "ipython3",
   "version": "3.9.13"
  }
 },
 "nbformat": 4,
 "nbformat_minor": 5
}
